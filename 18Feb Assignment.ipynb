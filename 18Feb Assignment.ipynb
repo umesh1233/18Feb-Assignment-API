{
 "cells": [
  {
   "cell_type": "code",
   "execution_count": null,
   "id": "c34834be-2dc7-409d-94f6-eb389cbefe85",
   "metadata": {},
   "outputs": [],
   "source": [
    "#Q.1\n",
    "API is are an accessible way to extract and share data within and across organizations. APIs are all around us.\n",
    "Every time you use a rideshare app, send a mobile payment, or change the thermostat temperature from your phone,\n",
    "you're using an API.\n",
    "\n",
    "APIs are used in web applications to connect user-facing front ends with critical back-end functionality and data. "
   ]
  },
  {
   "cell_type": "code",
   "execution_count": null,
   "id": "139b5f40-00aa-4677-b484-05ec46da8e28",
   "metadata": {},
   "outputs": [],
   "source": [
    "#Q.2\n",
    "API advantages and disadvantages:-\n",
    "An API or Application Programming Interface is a set of functions and procedures that allow systems to integrate, \n",
    "so its functionalities can be reused by other apps or programs.\n",
    "An API serves to exchange data between different types of software and so automate procedures and develop new features."
   ]
  },
  {
   "cell_type": "code",
   "execution_count": null,
   "id": "fbcbdbd7-8e2a-4c4b-a1f6-4f7d2e4cce07",
   "metadata": {},
   "outputs": [],
   "source": [
    "#Q.3\n",
    "Web API\n",
    "A Web API is an application programming interface for the Web. A Browser API can extend the functionality of a web browser.\n",
    "A Server API can extend the functionality of a web server.\n",
    "\n",
    "Differentiate between API and Web API\n",
    "Both APIs and web services are technologies that enable the transfer of data between separate software applications. \n",
    "API is an interface that exposes an \n",
    "application's data to outside software, whereas web applications are one type of API with stricter requirements."
   ]
  },
  {
   "cell_type": "code",
   "execution_count": null,
   "id": "6ad63f39-e64c-41a9-b399-b35f5462a2e6",
   "metadata": {},
   "outputs": [],
   "source": [
    "#Q.4\n",
    "While SOAP and REST share similarities over the HTTP protocol, SOAP is a more rigid set of messaging patterns than REST. The rules in SOAP are important because we can't achieve any level of standardization without them. REST as an architecture style does not require processing and is naturally more flexible."
   ]
  }
 ],
 "metadata": {
  "kernelspec": {
   "display_name": "Python 3 (ipykernel)",
   "language": "python",
   "name": "python3"
  },
  "language_info": {
   "codemirror_mode": {
    "name": "ipython",
    "version": 3
   },
   "file_extension": ".py",
   "mimetype": "text/x-python",
   "name": "python",
   "nbconvert_exporter": "python",
   "pygments_lexer": "ipython3",
   "version": "3.10.8"
  }
 },
 "nbformat": 4,
 "nbformat_minor": 5
}
